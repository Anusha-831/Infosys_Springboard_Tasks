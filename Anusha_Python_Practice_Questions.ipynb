{
 "cells": [
  {
   "cell_type": "markdown",
   "id": "9abe693a-03a2-4943-bc78-a7673460f8d4",
   "metadata": {},
   "source": [
    "# 1. Write a python program to swap below string. Input = Ravi Kumar Patel, output = Kumar Ravi patel"
   ]
  },
  {
   "cell_type": "code",
   "execution_count": 12,
   "id": "6c920da5-d24e-4af6-9200-8eba6f9de2f8",
   "metadata": {},
   "outputs": [
    {
     "name": "stdout",
     "output_type": "stream",
     "text": [
      "Kumar Ravi Patel\n"
     ]
    }
   ],
   "source": [
    "string = 'Ravi Kumar Patel'\n",
    "lst=string.split(' ')\n",
    "temp=lst[1]\n",
    "lst[1]=lst[0]\n",
    "lst[0]=temp\n",
    "string=' '.join(lst)\n",
    "print(string)"
   ]
  },
  {
   "cell_type": "markdown",
   "id": "ecb677ee-ed4c-4ceb-83c6-a0143860f1bd",
   "metadata": {},
   "source": [
    "# 2. Write a python program to find maximum number from the list without using sorting  list = [87,43,76,1,99,23,8]"
   ]
  },
  {
   "cell_type": "code",
   "execution_count": 11,
   "id": "a6c8e58a-a83e-4599-b911-abc1b9e66897",
   "metadata": {},
   "outputs": [
    {
     "data": {
      "text/plain": [
       "99"
      ]
     },
     "execution_count": 11,
     "metadata": {},
     "output_type": "execute_result"
    }
   ],
   "source": [
    "list = [87,43,76,1,99,23,8]\n",
    "max(list)"
   ]
  },
  {
   "cell_type": "markdown",
   "id": "963df0db-754b-4bc9-b949-533eaae3f3d8",
   "metadata": {},
   "source": [
    "# 3. Write python to find the occurance of character in string s1= google output = g=2,o=2..."
   ]
  },
  {
   "cell_type": "code",
   "execution_count": 10,
   "id": "8a1c803b-be87-4b2d-9b56-2e66bc2dc2a2",
   "metadata": {},
   "outputs": [
    {
     "name": "stdout",
     "output_type": "stream",
     "text": [
      "{'g': 2, 'o': 2, 'l': 1, 'e': 1}\n"
     ]
    }
   ],
   "source": [
    "strg='google'\n",
    "count={}\n",
    "for i in strg:\n",
    "    if i not in count:\n",
    "        count[i]=1\n",
    "    else:\n",
    "        count[i]+=1\n",
    "print(count)"
   ]
  },
  {
   "cell_type": "code",
   "execution_count": 9,
   "id": "070ea9a9-fbce-444c-ba79-8ca6f5fd7c85",
   "metadata": {},
   "outputs": [
    {
     "name": "stdout",
     "output_type": "stream",
     "text": [
      "g=2\n",
      "o=2\n",
      "l=1\n",
      "e=1\n"
     ]
    }
   ],
   "source": [
    "from collections import Counter\n",
    "s1=\"google\"\n",
    "char_count = Counter(s1)\n",
    "for char in char_count:\n",
    "    print(f\"{char}={char_count[char]}\")"
   ]
  },
  {
   "cell_type": "markdown",
   "id": "6bf86de4-9c95-487e-a991-ee757ab49904",
   "metadata": {},
   "source": [
    "# Use list comprehension to solve below problem . Find all number from 1-1000 are divided by 7 "
   ]
  },
  {
   "cell_type": "code",
   "execution_count": 8,
   "id": "723db9c1-b945-477f-9736-dd1ed87268f3",
   "metadata": {},
   "outputs": [
    {
     "name": "stdout",
     "output_type": "stream",
     "text": [
      "[7, 14, 21, 28, 35, 42, 49, 56, 63, 70, 77, 84, 91, 98, 105, 112, 119, 126, 133, 140, 147, 154, 161, 168, 175, 182, 189, 196, 203, 210, 217, 224, 231, 238, 245, 252, 259, 266, 273, 280, 287, 294, 301, 308, 315, 322, 329, 336, 343, 350, 357, 364, 371, 378, 385, 392, 399, 406, 413, 420, 427, 434, 441, 448, 455, 462, 469, 476, 483, 490, 497, 504, 511, 518, 525, 532, 539, 546, 553, 560, 567, 574, 581, 588, 595, 602, 609, 616, 623, 630, 637, 644, 651, 658, 665, 672, 679, 686, 693, 700, 707, 714, 721, 728, 735, 742, 749, 756, 763, 770, 777, 784, 791, 798, 805, 812, 819, 826, 833, 840, 847, 854, 861, 868, 875, 882, 889, 896, 903, 910, 917, 924, 931, 938, 945, 952, 959, 966, 973, 980, 987, 994]\n"
     ]
    }
   ],
   "source": [
    "lst = [num for num in range(1,1001) if num % 7 == 0]\n",
    "print(lst)"
   ]
  },
  {
   "cell_type": "markdown",
   "id": "30ecbdb9-da3f-4765-aa28-ad06d42b95d6",
   "metadata": {},
   "source": [
    "# 5. Produce a list containing word even if number is even and odd if number is odd. Input = [75,8,94,2,23,29,100], output = [odd, even ,even ,...]"
   ]
  },
  {
   "cell_type": "code",
   "execution_count": 7,
   "id": "3f42d488-3959-4f78-8bde-8dea04171483",
   "metadata": {},
   "outputs": [
    {
     "data": {
      "text/plain": [
       "['odd', 'even', 'even', 'even', 'odd', 'odd', 'even']"
      ]
     },
     "execution_count": 7,
     "metadata": {},
     "output_type": "execute_result"
    }
   ],
   "source": [
    "list = [75,8,94,2,23,29,100]\n",
    "even_or_odd = ['even' if x%2==0 else 'odd' for x in list]\n",
    "even_or_odd\n"
   ]
  },
  {
   "cell_type": "markdown",
   "id": "afa54be0-75a5-48dc-84f8-4a904aa4ed5e",
   "metadata": {},
   "source": [
    "# 6. Write a program to extract numbers from the string .input = 'hello 1 hi 9 . How are 10' output =[1,9,10]"
   ]
  },
  {
   "cell_type": "code",
   "execution_count": 6,
   "id": "bda6856f-755a-4f97-8983-d79aa2692307",
   "metadata": {},
   "outputs": [
    {
     "name": "stdout",
     "output_type": "stream",
     "text": [
      "[1, 9, 10]\n"
     ]
    }
   ],
   "source": [
    "input_string = 'hello 1 hi 9 . How are 10'\n",
    "numbers = []\n",
    "words = input_string.split()\n",
    "for word in words:\n",
    "    if word.isdigit():  \n",
    "        numbers.append(int(word)) \n",
    "print(numbers)"
   ]
  },
  {
   "cell_type": "markdown",
   "id": "f47d682c-24ac-4882-b160-c5a9a5bdc922",
   "metadata": {},
   "source": [
    "# 7. Write a program to find give string of email is in correct format or not. Input=xyz@gmail.com output = correct "
   ]
  },
  {
   "cell_type": "code",
   "execution_count": 5,
   "id": "f6c05878-954d-4ead-98f7-b6e8ce1ae0d6",
   "metadata": {},
   "outputs": [
    {
     "name": "stdout",
     "output_type": "stream",
     "text": [
      "Correct\n"
     ]
    }
   ],
   "source": [
    "input = \"xyz@gmail.com\"\n",
    "if input.endswith(\"@gmail.com\"):\n",
    "    print(\"Correct\")\n",
    "else:\n",
    "    print(\"Incorrect\")"
   ]
  },
  {
   "cell_type": "markdown",
   "id": "b841d5ee-db06-45a9-9eed-e4e2cdfb3d45",
   "metadata": {},
   "source": [
    "# 8. Write program to remove all white space in from the string "
   ]
  },
  {
   "cell_type": "code",
   "execution_count": 4,
   "id": "0a745e13-359f-41a7-b946-87395c31d7b9",
   "metadata": {},
   "outputs": [
    {
     "name": "stdin",
     "output_type": "stream",
     "text": [
      "Enter String:  Intern at Infosys Springboard 5.0\n"
     ]
    },
    {
     "name": "stdout",
     "output_type": "stream",
     "text": [
      "InternatInfosysSpringboard5.0\n"
     ]
    }
   ],
   "source": [
    "string=str(input('Enter String: '))\n",
    "print(string.replace(' ',''))"
   ]
  },
  {
   "cell_type": "markdown",
   "id": "585579eb-2b06-476e-91d2-d3608b582461",
   "metadata": {},
   "source": [
    "# 9. Write a program to find sum of 1to50 numbers using list comprehension "
   ]
  },
  {
   "cell_type": "code",
   "execution_count": 13,
   "id": "4369de62-2a88-49f7-9c6b-9e613d476373",
   "metadata": {},
   "outputs": [
    {
     "data": {
      "text/plain": [
       "1275"
      ]
     },
     "execution_count": 13,
     "metadata": {},
     "output_type": "execute_result"
    }
   ],
   "source": [
    "list=[x for x in range(1,51)]\n",
    "sum(list)"
   ]
  },
  {
   "cell_type": "markdown",
   "id": "659be574-52ed-4bab-8a79-fa498c74d109",
   "metadata": {},
   "source": [
    "# 10. Write a program to check string is alpha numeric or not"
   ]
  },
  {
   "cell_type": "code",
   "execution_count": 3,
   "id": "147f43f0-2140-42f8-a8c7-1403312b4427",
   "metadata": {},
   "outputs": [
    {
     "name": "stdin",
     "output_type": "stream",
     "text": [
      "Enter input:  hello123\n"
     ]
    },
    {
     "name": "stdout",
     "output_type": "stream",
     "text": [
      "True\n"
     ]
    }
   ],
   "source": [
    "user_input = input('Enter input: ')\n",
    "x=user_input.isalnum()\n",
    "print(x)"
   ]
  }
 ],
 "metadata": {
  "kernelspec": {
   "display_name": "Python 3 (ipykernel)",
   "language": "python",
   "name": "python3"
  },
  "language_info": {
   "codemirror_mode": {
    "name": "ipython",
    "version": 3
   },
   "file_extension": ".py",
   "mimetype": "text/x-python",
   "name": "python",
   "nbconvert_exporter": "python",
   "pygments_lexer": "ipython3",
   "version": "3.12.7"
  }
 },
 "nbformat": 4,
 "nbformat_minor": 5
}
